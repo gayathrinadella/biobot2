{
 "cells": [
  {
   "cell_type": "markdown",
   "metadata": {},
   "source": [
    "49PAOLXZ1BLYDXN0ZGDYBDZ6COVM6G2DBICYJG4F"
   ]
  }
 ],
 "metadata": {
  "language_info": {
   "name": "python"
  }
 },
 "nbformat": 4,
 "nbformat_minor": 2
}
