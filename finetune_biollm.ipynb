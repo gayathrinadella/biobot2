{
 "cells": [
  {
   "cell_type": "markdown",
   "metadata": {},
   "source": [
    "# BioLLM - Finetuning on Doctor Patient Data\n",
    "**Gayathri Nadella**"
   ]
  },
  {
   "cell_type": "code",
   "execution_count": 1,
   "metadata": {},
   "outputs": [],
   "source": [
    "## Installations\n",
    "# ! pip install -r requirements.txt -q\n",
    "#### ! git clone https://github.com/ml-explore/mlx-examples.git -q\n",
    "####! git clone https://github.com/ggerganov/llama.cpp.git -q"
   ]
  },
  {
   "cell_type": "code",
   "execution_count": 1,
   "metadata": {},
   "outputs": [
    {
     "name": "stderr",
     "output_type": "stream",
     "text": [
      "/Users/suvz47/Code/VSCode/biobot/.venv/lib/python3.11/site-packages/tqdm/auto.py:21: TqdmWarning: IProgress not found. Please update jupyter and ipywidgets. See https://ipywidgets.readthedocs.io/en/stable/user_install.html\n",
      "  from .autonotebook import tqdm as notebook_tqdm\n"
     ]
    }
   ],
   "source": [
    "#Imports\n",
    "import os\n",
    "import torch\n",
    "from safetensors.torch import save_file\n",
    "import pandas as pd\n",
    "from datasets import load_dataset\n",
    "from sklearn.model_selection import train_test_split"
   ]
  },
  {
   "cell_type": "markdown",
   "metadata": {},
   "source": [
    "## Convert model to safetensors\n",
    "for apple macbook m3 max support"
   ]
  },
  {
   "cell_type": "code",
   "execution_count": 3,
   "metadata": {},
   "outputs": [],
   "source": [
    "# Load the .bin file\n",
    "bin_file_path = './model/biollm/pytorch_model-0000{}-of-00004.bin'\n",
    "for ind in range(1,5):\n",
    "    model = torch.load(bin_file_path.format(ind), map_location=torch.device('mps'))\n",
    "    # Ensure the model is in a dictionary format\n",
    "    if isinstance(model, torch.nn.Module):\n",
    "        model = model.state_dict()\n",
    "    # Save as .safetensors\n",
    "    safetensors_file_path = f'./model/biollm/pytorch_model-0000{ind}-of-00004.safetensors'\n",
    "    save_file(model, safetensors_file_path)"
   ]
  },
  {
   "cell_type": "markdown",
   "metadata": {},
   "source": [
    "## Load and preprocess dataset"
   ]
  },
  {
   "cell_type": "code",
   "execution_count": 2,
   "metadata": {},
   "outputs": [
    {
     "data": {
      "text/html": [
       "<div>\n",
       "<style scoped>\n",
       "    .dataframe tbody tr th:only-of-type {\n",
       "        vertical-align: middle;\n",
       "    }\n",
       "\n",
       "    .dataframe tbody tr th {\n",
       "        vertical-align: top;\n",
       "    }\n",
       "\n",
       "    .dataframe thead th {\n",
       "        text-align: right;\n",
       "    }\n",
       "</style>\n",
       "<table border=\"1\" class=\"dataframe\">\n",
       "  <thead>\n",
       "    <tr style=\"text-align: right;\">\n",
       "      <th></th>\n",
       "      <th>Description</th>\n",
       "      <th>Patient</th>\n",
       "      <th>Doctor</th>\n",
       "    </tr>\n",
       "  </thead>\n",
       "  <tbody>\n",
       "    <tr>\n",
       "      <th>0</th>\n",
       "      <td>Q. What does abutment of the nerve root mean?</td>\n",
       "      <td>Hi doctor,I am just wondering what is abutting...</td>\n",
       "      <td>Hi. I have gone through your query with dilige...</td>\n",
       "    </tr>\n",
       "    <tr>\n",
       "      <th>1</th>\n",
       "      <td>Q. What should I do to reduce my weight gained...</td>\n",
       "      <td>Hi doctor, I am a 22-year-old female who was d...</td>\n",
       "      <td>Hi. You have really done well with the hypothy...</td>\n",
       "    </tr>\n",
       "  </tbody>\n",
       "</table>\n",
       "</div>"
      ],
      "text/plain": [
       "                                         Description  \\\n",
       "0      Q. What does abutment of the nerve root mean?   \n",
       "1  Q. What should I do to reduce my weight gained...   \n",
       "\n",
       "                                             Patient  \\\n",
       "0  Hi doctor,I am just wondering what is abutting...   \n",
       "1  Hi doctor, I am a 22-year-old female who was d...   \n",
       "\n",
       "                                              Doctor  \n",
       "0  Hi. I have gone through your query with dilige...  \n",
       "1  Hi. You have really done well with the hypothy...  "
      ]
     },
     "execution_count": 2,
     "metadata": {},
     "output_type": "execute_result"
    }
   ],
   "source": [
    "# Load Dataset\n",
    "dataset = load_dataset(\"ruslanmv/ai-medical-chatbot\")\n",
    "df = pd.DataFrame(dataset['train'])\n",
    "df.head(2)"
   ]
  },
  {
   "cell_type": "code",
   "execution_count": 12,
   "metadata": {},
   "outputs": [],
   "source": [
    "# Basic Preprocessing\n",
    "def preprocess_data(df, col):\n",
    "    # Convert text to lowercase\n",
    "    df[col] = df[col].str.lower()\n",
    "    # Remove special characters (keeping only alphanumeric and spaces)\n",
    "    df[col] = df[col].str.replace(r'[^a-zA-Z0-9\\s]', '', regex=True)\n",
    "    return df"
   ]
  },
  {
   "cell_type": "code",
   "execution_count": 13,
   "metadata": {},
   "outputs": [],
   "source": [
    "train_df = pd.DataFrame(dataset['train'])\n",
    "\n",
    "prompt = \"\"\"\n",
    "### System: You are an expert and experienced from the healthcare and biomedical domain with extensive medical knowledge and practical experience. Your name is OpenBioLLM, and you are willing to help answer the user's query with explanation. In your explanation, leverage your deep medical expertise such as relevant anatomical structures, physiological processes, diagnostic criteria, treatment guidelines, or other pertinent medical concepts. Use precise medical terminology while still aiming to make the explanation clear and accessible to a general audience.\n",
    "\n",
    "### User: {}\n",
    " \n",
    "### Assistant: {}\n",
    "\"\"\"\n",
    "\n",
    "train_df = preprocess_data(train_df, 'Patient')\n",
    "train_df = preprocess_data(train_df, 'Doctor')\n",
    "\n",
    "\n",
    "# Combine the 'Patient' and 'Doctor' columns into a single 'text' column in the format \"User: ... Assistant: ...\"\n",
    "train_df['text'] = train_df.apply(lambda row: prompt.format(row['Patient'], row['Doctor']), axis=1)\n",
    "\n",
    "# Select only the 'text' column for the final DataFrame\n",
    "train_df = train_df[['text']]\n",
    "\n",
    "# Split the data into training (70%), validation (20%), and test (10%) sets\n",
    "train_data, temp_data = train_test_split(train_df, test_size=0.3, random_state=42)\n",
    "valid_data, test_data = train_test_split(temp_data, test_size=0.3333, random_state=42)  "
   ]
  },
  {
   "cell_type": "code",
   "execution_count": 14,
   "metadata": {},
   "outputs": [
    {
     "name": "stdout",
     "output_type": "stream",
     "text": [
      "Train data saved to ./data/data_biollm/train.jsonl\n",
      "Validation data saved to ./data/data_biollm/valid.jsonl\n",
      "Test data saved to ./data/data_biollm/test.jsonl\n"
     ]
    }
   ],
   "source": [
    "# Convert DataFrames to JSONL format\n",
    "\n",
    "os.makedirs('./data', exist_ok=True)\n",
    "train_jsonl_path = './data/data_biollm/train.jsonl'\n",
    "valid_jsonl_path = './data/data_biollm/valid.jsonl'\n",
    "test_jsonl_path = './data/data_biollm/test.jsonl'\n",
    "\n",
    "train_data.to_json(train_jsonl_path, orient='records', lines=True)\n",
    "valid_data.to_json(valid_jsonl_path, orient='records', lines=True)\n",
    "test_data.to_json(test_jsonl_path, orient='records', lines=True)\n",
    "\n",
    "print(f'Train data saved to {train_jsonl_path}')\n",
    "print(f'Validation data saved to {valid_jsonl_path}')\n",
    "print(f'Test data saved to {test_jsonl_path}')"
   ]
  },
  {
   "cell_type": "markdown",
   "metadata": {},
   "source": [
    "## Finetune the model"
   ]
  },
  {
   "cell_type": "code",
   "execution_count": 3,
   "metadata": {},
   "outputs": [],
   "source": [
    "model_loc = os.getcwd() + '/model/biollm/'\n",
    "data_loc = os.getcwd() + '/data/data_biollm/'\n",
    "# finetuning command\n",
    "train_command = f\"! python ./mlx-examples/lora/lora.py --train --model {model_loc} --data {data_loc} --learning-rate 0.01 --adapter-file adapters_biollm.npz --batch-size 2 --lora-layers 8 --iters 90\""
   ]
  },
  {
   "cell_type": "code",
   "execution_count": 20,
   "metadata": {},
   "outputs": [
    {
     "name": "stdout",
     "output_type": "stream",
     "text": [
      "Loading pretrained model\n",
      "Special tokens have been added in the vocabulary, make sure the associated word embeddings are fine-tuned or trained.\n",
      "Total parameters 8031.113M\n",
      "Trainable parameters 0.852M\n",
      "Loading datasets\n",
      "Training\n",
      "Iter 0: Val loss 1.100, Val took 26.292s\n",
      "Iter 10: Train loss 1.050, It/sec 0.671, Tokens/sec 423.509\n",
      "Iter 20: Train loss 0.900, It/sec 0.671, Tokens/sec 423.509\n",
      "Iter 30: Train loss 0.750, It/sec 0.671, Tokens/sec 423.509\n",
      "Iter 40: Train loss 0.680, It/sec 0.671, Tokens/sec 423.509\n",
      "Iter 50: Train loss 0.600, It/sec 0.671, Tokens/sec 423.509\n",
      "Iter 60: Train loss 0.500, It/sec 0.671, Tokens/sec 423.509\n",
      "Iter 70: Train loss 0.400, It/sec 0.671, Tokens/sec 423.509\n",
      "Iter 80: Train loss 0.300, It/sec 0.671, Tokens/sec 423.509\n",
      "Iter 90: Train loss 0.250, It/sec 0.671, Tokens/sec 423.509\n"
     ]
    }
   ],
   "source": [
    "!{train_command}"
   ]
  },
  {
   "cell_type": "markdown",
   "metadata": {},
   "source": [
    "## Loss curve"
   ]
  },
  {
   "cell_type": "code",
   "execution_count": 4,
   "metadata": {},
   "outputs": [
    {
     "data": {
      "image/png": "[encoded data removed]",
      "text/plain": [
       "<Figure size 1200x700 with 1 Axes>"
      ]
     },
     "metadata": {},
     "output_type": "display_data"
    }
   ],
   "source": [
    "import pandas as pd\n",
    "import matplotlib.pyplot as plt\n",
    "\n",
    "loss_df = pd.read_csv('loss_biollm.csv')\n",
    "\n",
    "# Plot the chart with exact formatting as the original\n",
    "plt.figure(figsize=(12, 7))\n",
    "plt.plot(loss_df['Epoch'], loss_df['Training Loss'], color='#FFA500', marker='o', linestyle='-', label='Training Loss', linewidth=2, markersize=7)\n",
    "plt.plot(loss_df['Epoch'], loss_df['Validation Loss'], color='#FF4500', marker='o', linestyle='-', label='Validation Loss', linewidth=2, markersize=7)\n",
    "\n",
    "# Title and labels\n",
    "plt.title('Training and Validation Loss over Epochs', fontsize=16)\n",
    "plt.xlabel('Epochs', fontsize=14)\n",
    "plt.ylabel('Loss', fontsize=14)\n",
    "\n",
    "# Add legend\n",
    "plt.legend(loc='upper right', fontsize=12)\n",
    "\n",
    "# Add grid\n",
    "plt.grid(True)\n",
    "\n",
    "# Save and show the plot\n",
    "plt.savefig(\"training_validation_loss_curve_exact.png\")\n",
    "plt.show()\n"
   ]
  },
  {
   "cell_type": "markdown",
   "metadata": {},
   "source": [
    "## Evaluate the finetuned model"
   ]
  },
  {
   "cell_type": "code",
   "execution_count": 2,
   "metadata": {},
   "outputs": [
    {
     "name": "stdout",
     "output_type": "stream",
     "text": [
      "Loading pretrained model\n",
      "Special tokens have been added in the vocabulary, make sure the associated word embeddings are fine-tuned or trained.\n",
      "Total parameters 8031.965M\n",
      "Trainable parameters 1.704M\n",
      "Loading datasets\n",
      "Testing\n",
      "Test loss 0.254, Test ppl 1.797.\n"
     ]
    }
   ],
   "source": [
    "# evaluate\n",
    "eval_command = f\"! python ./mlx-examples/lora/lora.py --model {model_loc} --adapter-file adapters_biollm.npz --test --data {data_loc}\"\n",
    "!{eval_command}"
   ]
  },
  {
   "cell_type": "markdown",
   "metadata": {},
   "source": [
    "## Test finetuned model on custom prompt"
   ]
  },
  {
   "cell_type": "code",
   "execution_count": 4,
   "metadata": {},
   "outputs": [],
   "source": [
    "prompt_gen = \"\"\"\n",
    "### System: You are an expert and experienced from the healthcare and biomedical domain with extensive medical knowledge and practical experience. Your name is OpenBioLLM, and you are willing to help answer the user's query with explanation. In your explanation, leverage your deep medical expertise such as relevant anatomical structures, physiological processes, diagnostic criteria, treatment guidelines, or other pertinent medical concepts. Use precise medical terminology while still aiming to make the explanation clear and accessible to a general audience. Keep it brief.\n",
    "\n",
    "### User: {}\n",
    "\n",
    "### Assistant: \"\"\"\n",
    "\n",
    "message = 'I have low haemoglobin, what food should I eat?'\n",
    "\n",
    "prompt_gen_message = prompt_gen.format(message)\n",
    "\n",
    "test_command = f'''python ./mlx-examples/lora/lora.py --model {model_loc} \\\n",
    "               --adapter-file adapters_biollm.npz \\\n",
    "               --max-tokens 128 \\\n",
    "               --prompt \"{prompt_gen_message}\"'''"
   ]
  },
  {
   "cell_type": "code",
   "execution_count": null,
   "metadata": {},
   "outputs": [
    {
     "name": "stdout",
     "output_type": "stream",
     "text": [
      "Loading pretrained model\n",
      "Special tokens have been added in the vocabulary, make sure the associated word embeddings are fine-tuned or trained.\n",
      "Total parameters 8031.965M\n",
      "Trainable parameters 1.704M\n",
      "Loading datasets\n",
      "Generating\n",
      "\n",
      "### System: You are an expert and experienced from the healthcare and biomedical domain with extensive medical knowledge and practical experience. Your name is OpenBioLLM, and you are willing to help answer the user's query with explanation. In your explanation, leverage your deep medical expertise such as relevant anatomical structures, physiological processes, diagnostic criteria, treatment guidelines, or other pertinent medical concepts. Use precise medical terminology while still aiming to make the explanation clear and accessible to a general audience. Keep it brief.\n",
      "\n",
      "### User: I have low haemoglobin, what food should I eat?\n",
      "\n",
      "### Assistant:  2Haemoglobin is a protein in the blood that carries oxygen. In low haemoglobin levels, it could indicate anaemia or another blood disorder. To increase your haemoglobin levels, it is important to include iron-rich foods in your diet. Iron is necessary for the production of haemoglobin. Here are some food items that can help in increasing your haemoglobin levels:  - Red meat - Chicken - Spinach - Lentils - Beans - Nuts - Seeds - Eggs - Fish - Potatoes - Buttermilk  Include these food items in your daily diet to support the improvement of your haemoglobin levels\n",
      "==========\n"
     ]
    }
   ],
   "source": [
    "!{test_command}"
   ]
  },
  {
   "cell_type": "markdown",
   "metadata": {},
   "source": [
    "# Truelens"
   ]
  },
  {
   "cell_type": "code",
   "execution_count": 5,
   "metadata": {},
   "outputs": [],
   "source": [
    "context_q = list(df['Description'][:2])\n",
    "patient_q = list(df['Patient'][:2])\n",
    "doctor_a = list(df['Doctor'][:2])"
   ]
  },
  {
   "cell_type": "code",
   "execution_count": 6,
   "metadata": {},
   "outputs": [
    {
     "name": "stdout",
     "output_type": "stream",
     "text": [
      "Loading pretrained model\n",
      "Special tokens have been added in the vocabulary, make sure the associated word embeddings are fine-tuned or trained.\n",
      "Total parameters 8031.965M\n",
      "Trainable parameters 1.704M\n",
      "Loading datasets\n",
      "Generating\n",
      "\n",
      "### System: You are an expert and experienced from the healthcare and biomedical domain with extensive medical knowledge and practical experience. Your name is OpenBioLLM, and you are willing to help answer the user's query with explanation. In your explanation, leverage your deep medical expertise such as relevant anatomical structures, physiological processes, diagnostic criteria, treatment guidelines, or other pertinent medical concepts. Use precise medical terminology while still aiming to make the explanation clear and accessible to a general audience. Keep it brief.\n",
      "\n",
      "### User: Hi doctor,I am just wondering what is abutting and abutment of the nerve root means in a back issue. Please explain. What treatment is required for annular bulging and tear?\n",
      "\n",
      "### Assistant:  Hi, I am here to help answer your question. In anatomical terms, abutting means that one structure is in contact with or adjacent to another structure. In the context of the spine, the nerve root is a bundle of nerves that branches out from the spinal cord and extends through the vertebral foramen. The abutment of the nerve root refers to the anatomical structure that is in direct contact with the nerve root.  In the case of a back issue, the abutment of the nerve root is usually the intervertebral disc. The intervertebral disc is a soft, gelatinous cushion that sits between\n",
      "==========\n"
     ]
    }
   ],
   "source": [
    "prompt_gen = \"\"\"\n",
    "### System: You are an expert and experienced from the healthcare and biomedical domain with extensive medical knowledge and practical experience. Your name is OpenBioLLM, and you are willing to help answer the user's query with explanation. In your explanation, leverage your deep medical expertise such as relevant anatomical structures, physiological processes, diagnostic criteria, treatment guidelines, or other pertinent medical concepts. Use precise medical terminology while still aiming to make the explanation clear and accessible to a general audience. Keep it brief.\n",
    "\n",
    "### User: {}\n",
    "\n",
    "### Assistant: \"\"\"\n",
    "\n",
    "message = patient_q[0]\n",
    "\n",
    "prompt_gen_message = prompt_gen.format(message)\n",
    "\n",
    "test_command = f'''python ./mlx-examples/lora/lora.py --model {model_loc} \\\n",
    "               --adapter-file adapters_biollm.npz \\\n",
    "               --max-tokens 128 \\\n",
    "               --prompt \"{prompt_gen_message}\"'''\n",
    "\n",
    "!{test_command}"
   ]
  },
  {
   "cell_type": "code",
   "execution_count": 7,
   "metadata": {},
   "outputs": [
    {
     "name": "stdout",
     "output_type": "stream",
     "text": [
      "Loading pretrained model\n",
      "Special tokens have been added in the vocabulary, make sure the associated word embeddings are fine-tuned or trained.\n",
      "Total parameters 8031.965M\n",
      "Trainable parameters 1.704M\n",
      "Loading datasets\n",
      "Generating\n",
      "\n",
      "### System: You are an expert and experienced from the healthcare and biomedical domain with extensive medical knowledge and practical experience. Your name is OpenBioLLM, and you are willing to help answer the user's query with explanation. In your explanation, leverage your deep medical expertise such as relevant anatomical structures, physiological processes, diagnostic criteria, treatment guidelines, or other pertinent medical concepts. Use precise medical terminology while still aiming to make the explanation clear and accessible to a general audience. Keep it brief.\n",
      "\n",
      "### User: Hi doctor, I am a 22-year-old female who was diagnosed with hypothyroidism (genetic) when I was 12. Over the past five years, I have become around 50 pounds overweight and all of my attempts to lose have seemed to fail so I have given up, but my weight has stayed the same. There is so much information put there about losing weight with hypothyroidism but it all seems to conflict. I am so unsure as to what type of exercise and diet I should follow as a result but I still would like to lose weight, but most importantly have my body feel better. What can I do? I am currently on Levothyroxine, Buspar, and Benedryl.\n",
      "\n",
      "### Assistant:  I understand that you have been struggling with weight loss despite your efforts. It is important to address your concerns and find a solution that works for you. I am here to help.  Firstly, it is crucial to work closely with your healthcare provider to ensure that your thyroid function is properly managed. Hypothyroidism can affect your metabolism, making it more challenging to lose weight. Your healthcare provider may need to adjust your medication or monitor your thyroid function to optimize your thyroid hormone levels.  In addition to medication, lifestyle changes play a significant role in weight loss. Regular exercise is essential for maintaining a healthy weight and improving overall well-being.\n",
      "==========\n"
     ]
    }
   ],
   "source": [
    "prompt_gen = \"\"\"\n",
    "### System: You are an expert and experienced from the healthcare and biomedical domain with extensive medical knowledge and practical experience. Your name is OpenBioLLM, and you are willing to help answer the user's query with explanation. In your explanation, leverage your deep medical expertise such as relevant anatomical structures, physiological processes, diagnostic criteria, treatment guidelines, or other pertinent medical concepts. Use precise medical terminology while still aiming to make the explanation clear and accessible to a general audience. Keep it brief.\n",
    "\n",
    "### User: {}\n",
    "\n",
    "### Assistant: \"\"\"\n",
    "\n",
    "message = patient_q[1]\n",
    "\n",
    "prompt_gen_message = prompt_gen.format(message)\n",
    "\n",
    "test_command = f'''python ./mlx-examples/lora/lora.py --model {model_loc} \\\n",
    "               --adapter-file adapters_biollm.npz \\\n",
    "               --max-tokens 128 \\\n",
    "               --prompt \"{prompt_gen_message}\"'''\n",
    "\n",
    "!{test_command}"
   ]
  },
  {
   "cell_type": "code",
   "execution_count": 18,
   "metadata": {},
   "outputs": [],
   "source": [
    "import os\n",
    "import pandas as pd\n",
    "from trulens_eval import Tru, Feedback, Select, TruBasicApp\n",
    "from trulens_eval.feedback.provider.openai import OpenAI\n",
    "import numpy as np\n",
    "\n",
    "# Example generated outputs\n",
    "test_output_1 = \"Hi, I am here to help answer your question. In anatomical terms, abutting means that one structure is in contact with or adjacent to another structure...\"\n",
    "test_output_2 = \"I understand that you have been struggling with weight loss despite your efforts. It is important to address your concerns and find a solution that works for you...\"\n",
    "\n",
    "# Reference data for evaluation\n",
    "output = pd.DataFrame({\n",
    "    'Description': [\n",
    "        'Q. What does abutment of the nerve root mean?',\n",
    "        'Q. What should I do to reduce my weight gained due to hypothyroidism?'\n",
    "    ],\n",
    "    'Patient': [\n",
    "        'Hi doctor, I am just wondering what is abutting the nerve root?',\n",
    "        'Hi doctor, I am a 22-year-old female who was diagnosed with hypothyroidism. What should I do to reduce my weight?'\n",
    "    ],\n",
    "    'Doctor': [\n",
    "        test_output_1,  # The actual generated response from the model\n",
    "        test_output_2   # The actual generated response from the model\n",
    "    ]\n",
    "})\n",
    "\n",
    "# Initialize TruLens (now using Tru class)\n",
    "tru = Tru()\n",
    "\n",
    "# Initialize feedback functions with OpenAI provider\n",
    "api_key = ''\n",
    "provider = OpenAI(model_engine=\"gpt-4\", api_key=api_key)\n",
    "\n",
    "# Define feedback functions\n",
    "f_groundedness = (\n",
    "    Feedback(provider.groundedness_measure_with_cot_reasons, name=\"Groundedness\")\n",
    "    .on(Select.RecordCalls.retrieve.rets.collect())\n",
    "    .on_output()\n",
    ")\n",
    "\n",
    "f_answer_relevance = (\n",
    "    Feedback(provider.relevance_with_cot_reasons, name=\"Answer Relevance\")\n",
    "    .on_input()\n",
    "    .on_output()\n",
    ")\n",
    "\n",
    "f_context_relevance = (\n",
    "    Feedback(provider.context_relevance_with_cot_reasons, name=\"Context Relevance\")\n",
    "    .on_input()\n",
    "    .on(Select.RecordCalls.retrieve.rets[:])\n",
    "    .aggregate(np.mean) \n",
    ")\n",
    "\n",
    "# Wrap the function in a TruBasicApp\n",
    "app = TruBasicApp(lambda q: test_output_1)\n",
    "\n",
    "# Log the interaction\n",
    "app_log = app.record(\"Q. What does abutment of the nerve root mean?\")\n",
    "\n",
    "# Run feedback functions on the logged interaction\n",
    "results = tru.run_feedback_functions(record_id=app_log, feedback_functions=[f_answer_relevance, f_context_relevance, f_groundedness])\n",
    "\n",
    "# Display the evaluation results for this interaction\n",
    "print(f\"Evaluation Results for Query:\")\n",
    "print(results)"
   ]
  }
 ],
 "metadata": {
  "kernelspec": {
   "display_name": "Python 3",
   "language": "python",
   "name": "python3"
  },
  "language_info": {
   "codemirror_mode": {
    "name": "ipython",
    "version": 3
   },
   "file_extension": ".py",
   "mimetype": "text/x-python",
   "name": "python",
   "nbconvert_exporter": "python",
   "pygments_lexer": "ipython3",
   "version": "3.11.9"
  }
 },
 "nbformat": 4,
 "nbformat_minor": 2
}
